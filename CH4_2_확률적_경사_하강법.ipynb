{
  "nbformat": 4,
  "nbformat_minor": 0,
  "metadata": {
    "colab": {
      "provenance": [],
      "authorship_tag": "ABX9TyMfejWevUt0MNOamN5OyyCe",
      "include_colab_link": true
    },
    "kernelspec": {
      "name": "python3",
      "display_name": "Python 3"
    },
    "language_info": {
      "name": "python"
    }
  },
  "cells": [
    {
      "cell_type": "markdown",
      "metadata": {
        "id": "view-in-github",
        "colab_type": "text"
      },
      "source": [
        "<a href=\"https://colab.research.google.com/github/kimyujin0/Machine-Learning_2022/blob/main/CH4_2_%ED%99%95%EB%A5%A0%EC%A0%81_%EA%B2%BD%EC%82%AC_%ED%95%98%EA%B0%95%EB%B2%95.ipynb\" target=\"_parent\"><img src=\"https://colab.research.google.com/assets/colab-badge.svg\" alt=\"Open In Colab\"/></a>"
      ]
    },
    {
      "cell_type": "markdown",
      "source": [
        "SGDClassifier"
      ],
      "metadata": {
        "id": "wcsDc5b2vb6p"
      }
    },
    {
      "cell_type": "code",
      "execution_count": 1,
      "metadata": {
        "id": "qE1KkTF7uof1"
      },
      "outputs": [],
      "source": [
        "import pandas as pd\n",
        "fish = pd.read_csv('http://bit.ly/fish_csv_data')"
      ]
    },
    {
      "cell_type": "code",
      "source": [
        "fish_input = fish[['Weight', 'Length','Diagonal','Height','Width']].to_numpy()\n",
        "fish_target = fish['Species'].to_numpy()"
      ],
      "metadata": {
        "id": "Kj9pfLGyvk_M"
      },
      "execution_count": 2,
      "outputs": []
    },
    {
      "cell_type": "code",
      "source": [
        "from sklearn.model_selection import train_test_split\n",
        "X_train, X_test, y_train, y_test = train_test_split(fish_input, fish_target, random_state=42)"
      ],
      "metadata": {
        "id": "c0hjpzdgvlBe"
      },
      "execution_count": 3,
      "outputs": []
    },
    {
      "cell_type": "code",
      "source": [
        "from sklearn.preprocessing import StandardScaler\n",
        "ss = StandardScaler() # 훈련 세트와 테스트 세트 표준화 전처리\n",
        "ss.fit(X_train)\n",
        "train_scaled = ss.transform(X_train)\n",
        "test_scaled = ss.transform(X_test)"
      ],
      "metadata": {
        "id": "o4ElgnFrvlDo"
      },
      "execution_count": 4,
      "outputs": []
    },
    {
      "cell_type": "code",
      "source": [
        "# 확률적 경사 하강법 제공하는 대표적인 분류용 클래스\n",
        "from sklearn.linear_model import SGDClassifier"
      ],
      "metadata": {
        "id": "2Qtu0IpRvlF_"
      },
      "execution_count": 5,
      "outputs": []
    },
    {
      "cell_type": "code",
      "source": [
        "sc = SGDClassifier(loss = 'log', max_iter = 100, random_state=42)\n",
        "sc.fit(train_scaled, y_train)\n",
        "print(sc.score(train_scaled, y_train))\n",
        "print(sc.score(test_scaled, y_test))\n",
        "# 반복 횟수 10이 부족한 것으로 판단하여 100으로 증가"
      ],
      "metadata": {
        "colab": {
          "base_uri": "https://localhost:8080/"
        },
        "id": "KWW7JZAsvlIF",
        "outputId": "fa11bc7b-a419-4ea5-9652-a218c5c8cfbd"
      },
      "execution_count": 14,
      "outputs": [
        {
          "output_type": "stream",
          "name": "stdout",
          "text": [
            "0.8403361344537815\n",
            "0.8\n"
          ]
        }
      ]
    },
    {
      "cell_type": "code",
      "source": [
        "# 모델을 이어서 훈련\n",
        "sc.partial_fit(train_scaled, y_train)\n",
        "print(sc.score(train_scaled, y_train))\n",
        "print(sc.score(test_scaled, y_test))\n",
        "# 에포크를 한 번 더 실행하니 정확도 향상"
      ],
      "metadata": {
        "colab": {
          "base_uri": "https://localhost:8080/"
        },
        "id": "dUqOjVHDvlKN",
        "outputId": "d392f512-2ee3-45d7-c1dc-a1b52f266404"
      },
      "execution_count": 16,
      "outputs": [
        {
          "output_type": "stream",
          "name": "stdout",
          "text": [
            "0.907563025210084\n",
            "0.925\n"
          ]
        }
      ]
    },
    {
      "cell_type": "code",
      "source": [
        "# 에포크를 사용해 훈련 반복하고 그래프로 확인하기\n",
        "import numpy as np\n",
        "sc = SGDClassifier(loss='log',random_state=42)\n",
        "train_score=[]\n",
        "test_score=[]\n",
        "classes = np.unique(y_train)"
      ],
      "metadata": {
        "id": "OM1OkBrUvlMS"
      },
      "execution_count": 18,
      "outputs": []
    },
    {
      "cell_type": "code",
      "source": [
        "# 300번의 에포크 동안 훈련 반복\n",
        "for _ in range(0,300):\n",
        "    sc.partial_fit(train_scaled, y_train, classes = classes)\n",
        "    train_score.append(sc.score(train_scaled, y_train))\n",
        "    test_score.append(sc.score(test_scaled, y_test))"
      ],
      "metadata": {
        "id": "HNjQmaD-vlOw"
      },
      "execution_count": 23,
      "outputs": []
    },
    {
      "cell_type": "code",
      "source": [
        "import matplotlib.pyplot as plt\n",
        "plt.plot(train_score)\n",
        "plt.plot(test_score)\n",
        "plt.xlabel('epoch')\n",
        "plt.ylabel('accuracy')\n",
        "plt.show()\n",
        "# 100번째 에포크가 적절한 반복 횟수"
      ],
      "metadata": {
        "colab": {
          "base_uri": "https://localhost:8080/",
          "height": 279
        },
        "id": "DagUtojtvlQc",
        "outputId": "39efb86f-7eae-44bd-a473-d59341f6e4ed"
      },
      "execution_count": 24,
      "outputs": [
        {
          "output_type": "display_data",
          "data": {
            "text/plain": [
              "<Figure size 432x288 with 1 Axes>"
            ],
            "image/png": "[encoded data removed]"
          },
          "metadata": {
            "needs_background": "light"
          }
        }
      ]
    },
    {
      "cell_type": "code",
      "source": [
        "sc = SGDClassifier(loss='log', max_iter = 100, tol = None, random_state=42)\n",
        "sc.fit(train_scaled, y_train)\n",
        "print(sc.score(train_scaled, y_train))\n",
        "print(sc.score(test_scaled, y_test))"
      ],
      "metadata": {
        "colab": {
          "base_uri": "https://localhost:8080/"
        },
        "id": "lB26kbLIvlSv",
        "outputId": "507806e4-3e08-46c8-9ee5-93fc24aef6aa"
      },
      "execution_count": 26,
      "outputs": [
        {
          "output_type": "stream",
          "name": "stdout",
          "text": [
            "0.957983193277311\n",
            "0.925\n"
          ]
        }
      ]
    },
    {
      "cell_type": "code",
      "source": [
        "# 힌지 손실로 확률적 경사 하강법\n",
        "sc = SGDClassifier(loss='hinge', max_iter = 100, tol = None, random_state=42)\n",
        "sc.fit(train_scaled, y_train)\n",
        "print(sc.score(train_scaled, y_train))\n",
        "print(sc.score(test_scaled, y_test))"
      ],
      "metadata": {
        "colab": {
          "base_uri": "https://localhost:8080/"
        },
        "id": "ItVRDVgCvlU4",
        "outputId": "8aecc7a4-394c-4e07-dc1a-e7b755d3f41c"
      },
      "execution_count": 27,
      "outputs": [
        {
          "output_type": "stream",
          "name": "stdout",
          "text": [
            "0.9495798319327731\n",
            "0.925\n"
          ]
        }
      ]
    }
  ]
}